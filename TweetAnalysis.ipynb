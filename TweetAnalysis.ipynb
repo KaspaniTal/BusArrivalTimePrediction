{
  "nbformat": 4,
  "nbformat_minor": 0,
  "metadata": {
    "colab": {
      "name": "TweetAnalysis.ipynb",
      "provenance": [],
      "collapsed_sections": []
    },
    "kernelspec": {
      "name": "python3",
      "display_name": "Python 3"
    }
  },
  "cells": [
    {
      "cell_type": "code",
      "metadata": {
        "id": "1Xt8wnodd7-G",
        "colab_type": "code",
        "outputId": "369a1e12-d03b-45aa-dd56-470f8b8b0f60",
        "colab": {
          "base_uri": "https://localhost:8080/",
          "height": 67
        }
      },
      "source": [
        "!pip install lda"
      ],
      "execution_count": 0,
      "outputs": [
        {
          "output_type": "stream",
          "text": [
            "Requirement already satisfied: lda in /usr/local/lib/python3.6/dist-packages (1.1.0)\n",
            "Requirement already satisfied: numpy<2.0,>=1.13.0 in /usr/local/lib/python3.6/dist-packages (from lda) (1.17.4)\n",
            "Requirement already satisfied: pbr<4,>=0.6 in /usr/local/lib/python3.6/dist-packages (from lda) (3.1.1)\n"
          ],
          "name": "stdout"
        }
      ]
    },
    {
      "cell_type": "markdown",
      "metadata": {
        "id": "y0aXwM-Qd1oI",
        "colab_type": "text"
      },
      "source": [
        "Pre process + LDA topic analysis"
      ]
    },
    {
      "cell_type": "code",
      "metadata": {
        "id": "6IBjy3iVLt4_",
        "colab_type": "code",
        "colab": {}
      },
      "source": [
        "import nltk\n",
        "from nltk.corpus import stopwords\n",
        "from nltk import tokenize as tok\n",
        "from nltk.stem.snowball import SnowballStemmer # load nltk's SnowballStemmer as variabled 'stemmer'\n",
        "import lda # topic modeling -NMF & LDA\n",
        "import string\n",
        "from nltk.tag import StanfordNERTagger\n",
        "import re\n",
        "import pickle\n",
        "\n",
        "import numpy as np\n",
        "import pandas as pd"
      ],
      "execution_count": 0,
      "outputs": []
    },
    {
      "cell_type": "code",
      "metadata": {
        "id": "TIYoxi_6zt71",
        "colab_type": "code",
        "colab": {}
      },
      "source": [
        "# Load the LDA model from sk-learn\n",
        "from sklearn.decomposition import LatentDirichletAllocation as LDA\n",
        "# Tf-Idf and Clustering packages\n",
        "from sklearn.feature_extraction.text import TfidfVectorizer, CountVectorizer"
      ],
      "execution_count": 0,
      "outputs": []
    },
    {
      "cell_type": "code",
      "metadata": {
        "id": "Bxc1Q1jo6xm3",
        "colab_type": "code",
        "colab": {}
      },
      "source": [
        "#remove unnessary words\n",
        "#Complie all regular expressions\n",
        "isURL = re.compile(r'http[s]?:// (?:[a-z]|[0-9]|[$-_@.&+]|[!*\\(\\),]|(?:%[0-9a-f][0-9a-f]))+', re.VERBOSE | re.IGNORECASE)\n",
        "isRTusername = re.compile(r'^RT+[\\s]+(@[\\w_]+:)',re.VERBOSE | re.IGNORECASE) #r'^RT+[\\s]+(@[\\w_]+:)'\n",
        "isEntity = re.compile(r'@[\\w_]+', re.VERBOSE | re.IGNORECASE)"
      ],
      "execution_count": 0,
      "outputs": []
    },
    {
      "cell_type": "code",
      "metadata": {
        "id": "a4zjxACf-Seo",
        "colab_type": "code",
        "colab": {}
      },
      "source": [
        "# Helper functions\n",
        "\n",
        "# Show top n keywords for each topic\n",
        "def show_topics(vectorizer, lda_model, n_words=20):\n",
        "    keywords = np.array(vectorizer.get_feature_names())\n",
        "    topic_keywords = []\n",
        "    for topic_weights in lda_model.components_:\n",
        "        top_keyword_locs = (-topic_weights).argsort()[:n_words]\n",
        "        topic_keywords.append(keywords.take(top_keyword_locs))\n",
        "    return topic_keywords\n",
        "     \n",
        "        \n",
        "def clean_tweet(row):\n",
        "    row = isURL.sub(\"\",row)\n",
        "    row = isRTusername.sub(\"\",row)\n",
        "    row = isEntity.sub(\"\",row)\n",
        "    return row\n",
        "\n",
        "def tokenize_only(text):\n",
        "    # first tokenize by sentence, then by word to ensure that punctuation is caught as it's own token\n",
        "    tokens = [word.lower() for sent in tok.sent_tokenize(text) for word in tok.word_tokenize(sent)]\n",
        "    filtered_tokens = []\n",
        "    # filter out any tokens not containing letters (e.g., numeric tokens, raw punctuation)\n",
        "    for token in tokens:\n",
        "        if re.search('[a-zA-Z]', token):\n",
        "            filtered_tokens.append(token)\n",
        "    return filtered_tokens"
      ],
      "execution_count": 0,
      "outputs": []
    },
    {
      "cell_type": "code",
      "metadata": {
        "id": "73bz9t1nabbX",
        "colab_type": "code",
        "colab": {}
      },
      "source": [
        "tweet_df_comp = pickle.load( open( \"tweets_df.txt\", \"rb\" ) )\n",
        "event_df_comp = pickle.load( open( \"events_tweet_df.txt\", \"rb\"))"
      ],
      "execution_count": 0,
      "outputs": []
    },
    {
      "cell_type": "code",
      "metadata": {
        "id": "TT2Sj-nxausO",
        "colab_type": "code",
        "outputId": "4d760641-7493-419f-cf55-e310eacb6860",
        "colab": {
          "base_uri": "https://localhost:8080/",
          "height": 118
        }
      },
      "source": [
        "event_df_comp['tweet'].head()"
      ],
      "execution_count": 0,
      "outputs": [
        {
          "output_type": "execute_result",
          "data": {
            "text/plain": [
              "8     FOUR IN A ROW!!\\nThe Dublin Senior GAA Footbal...\n",
              "11    Eid Fest in Herbert Park in Ballsbridge is a f...\n",
              "47    On Sunday afternoon (15:00-20:00) the world mu...\n",
              "55    Lots of events happening today! And the weathe...\n",
              "56    Dublin Maker is a day-long festival for hacker...\n",
              "Name: tweet, dtype: object"
            ]
          },
          "metadata": {
            "tags": []
          },
          "execution_count": 149
        }
      ]
    },
    {
      "cell_type": "code",
      "metadata": {
        "id": "Z0HDjOhVCTvq",
        "colab_type": "code",
        "outputId": "3d4a6d57-35e4-4e09-a785-4b3c28f5191b",
        "colab": {
          "base_uri": "https://localhost:8080/",
          "height": 195
        }
      },
      "source": [
        " # remove urls and retweets and entities from the text\n",
        "tweet_df_comp['text_clean'] = tweet_df_comp['tweet'].apply(lambda row:clean_tweet(row))\n",
        "event_df_comp['text_clean'] = event_df_comp['tweet'].apply(lambda row:clean_tweet(row))\n",
        "#remove punctuations\n",
        "RE_PUNCTUATION = '|'.join([re.escape(x) for x in string.punctuation])  \n",
        "tweet_df_comp['text_clean'] = tweet_df_comp['text_clean'].str.replace(RE_PUNCTUATION, \"\")\n",
        "event_df_comp['text_clean'] = event_df_comp['text_clean'].str.replace(RE_PUNCTUATION, \"\")\n",
        "event_df_comp.head()"
      ],
      "execution_count": 0,
      "outputs": [
        {
          "output_type": "execute_result",
          "data": {
            "text/html": [
              "<div>\n",
              "<style scoped>\n",
              "    .dataframe tbody tr th:only-of-type {\n",
              "        vertical-align: middle;\n",
              "    }\n",
              "\n",
              "    .dataframe tbody tr th {\n",
              "        vertical-align: top;\n",
              "    }\n",
              "\n",
              "    .dataframe thead th {\n",
              "        text-align: right;\n",
              "    }\n",
              "</style>\n",
              "<table border=\"1\" class=\"dataframe\">\n",
              "  <thead>\n",
              "    <tr style=\"text-align: right;\">\n",
              "      <th></th>\n",
              "      <th>tweet</th>\n",
              "      <th>coordinates</th>\n",
              "      <th>true_date</th>\n",
              "      <th>text_clean</th>\n",
              "    </tr>\n",
              "  </thead>\n",
              "  <tbody>\n",
              "    <tr>\n",
              "      <th>8</th>\n",
              "      <td>FOUR IN A ROW!!\\nThe Dublin Senior GAA Footbal...</td>\n",
              "      <td>[(53.3471212, -6.2756149)]</td>\n",
              "      <td>2018-09-03</td>\n",
              "      <td>FOUR IN A ROW\\nThe Dublin Senior GAA Football ...</td>\n",
              "    </tr>\n",
              "    <tr>\n",
              "      <th>11</th>\n",
              "      <td>Eid Fest in Herbert Park in Ballsbridge is a f...</td>\n",
              "      <td>[(53.3276869, -6.23656997033567)]</td>\n",
              "      <td>2018-09-01</td>\n",
              "      <td>Eid Fest in Herbert Park in Ballsbridge is a f...</td>\n",
              "    </tr>\n",
              "    <tr>\n",
              "      <th>47</th>\n",
              "      <td>On Sunday afternoon (15:00-20:00) the world mu...</td>\n",
              "      <td>[(53.3471212, -6.2756149)]</td>\n",
              "      <td>2018-07-29</td>\n",
              "      <td>On Sunday afternoon 15002000 the world music f...</td>\n",
              "    </tr>\n",
              "    <tr>\n",
              "      <th>55</th>\n",
              "      <td>Lots of events happening today! And the weathe...</td>\n",
              "      <td>[(53.3385656, -6.2435878)]</td>\n",
              "      <td>2018-07-21</td>\n",
              "      <td>Lots of events happening today And the weather...</td>\n",
              "    </tr>\n",
              "    <tr>\n",
              "      <th>56</th>\n",
              "      <td>Dublin Maker is a day-long festival for hacker...</td>\n",
              "      <td>[(53.3385656, -6.2435878)]</td>\n",
              "      <td>2018-07-21</td>\n",
              "      <td>Dublin Maker is a daylong festival for hackers...</td>\n",
              "    </tr>\n",
              "  </tbody>\n",
              "</table>\n",
              "</div>"
            ],
            "text/plain": [
              "                                                tweet  ...                                         text_clean\n",
              "8   FOUR IN A ROW!!\\nThe Dublin Senior GAA Footbal...  ...  FOUR IN A ROW\\nThe Dublin Senior GAA Football ...\n",
              "11  Eid Fest in Herbert Park in Ballsbridge is a f...  ...  Eid Fest in Herbert Park in Ballsbridge is a f...\n",
              "47  On Sunday afternoon (15:00-20:00) the world mu...  ...  On Sunday afternoon 15002000 the world music f...\n",
              "55  Lots of events happening today! And the weathe...  ...  Lots of events happening today And the weather...\n",
              "56  Dublin Maker is a day-long festival for hacker...  ...  Dublin Maker is a daylong festival for hackers...\n",
              "\n",
              "[5 rows x 4 columns]"
            ]
          },
          "metadata": {
            "tags": []
          },
          "execution_count": 217
        }
      ]
    },
    {
      "cell_type": "code",
      "metadata": {
        "id": "MUkj7H6mbRE8",
        "colab_type": "code",
        "outputId": "70a072b9-8824-4169-a189-26f9a7ad4128",
        "colab": {
          "base_uri": "https://localhost:8080/",
          "height": 101
        }
      },
      "source": [
        "nltk.download('stopwords')\n",
        "nltk.download('punkt')"
      ],
      "execution_count": 0,
      "outputs": [
        {
          "output_type": "stream",
          "text": [
            "[nltk_data] Downloading package stopwords to /root/nltk_data...\n",
            "[nltk_data]   Package stopwords is already up-to-date!\n",
            "[nltk_data] Downloading package punkt to /root/nltk_data...\n",
            "[nltk_data]   Package punkt is already up-to-date!\n"
          ],
          "name": "stdout"
        },
        {
          "output_type": "execute_result",
          "data": {
            "text/plain": [
              "True"
            ]
          },
          "metadata": {
            "tags": []
          },
          "execution_count": 20
        }
      ]
    },
    {
      "cell_type": "code",
      "metadata": {
        "id": "CHtxW3kqCrrb",
        "colab_type": "code",
        "colab": {}
      },
      "source": [
        "stop_list= stopwords.words('english') #import stopwords from NLTK package\n",
        "stop_list.append('http')\n",
        "stop_list.append('https')"
      ],
      "execution_count": 0,
      "outputs": []
    },
    {
      "cell_type": "code",
      "metadata": {
        "id": "qRM0IUkBEMyK",
        "colab_type": "code",
        "outputId": "03cbcde3-7a07-486a-b3a7-862b485a015c",
        "colab": {
          "base_uri": "https://localhost:8080/",
          "height": 154
        }
      },
      "source": [
        "corpus = tweet_df_comp['text_clean'].tolist()\n",
        "tf_vectorizer = CountVectorizer(max_df=0.9, min_df=0.00, stop_words=stop_list, tokenizer=tokenize_only) # Use tf (raw term count) features for LDA.\n",
        "tf = tf_vectorizer.fit_transform(corpus)\n",
        "corpus[:5]"
      ],
      "execution_count": 0,
      "outputs": [
        {
          "output_type": "stream",
          "text": [
            "/usr/local/lib/python3.6/dist-packages/sklearn/feature_extraction/text.py:300: UserWarning: Your stop_words may be inconsistent with your preprocessing. Tokenizing the stop words generated tokens [\"'d\", \"'ll\", \"'re\", \"'s\", \"'ve\", 'could', 'might', 'must', \"n't\", 'need', 'sha', 'wo', 'would'] not in stop_words.\n",
            "  'stop_words.' % sorted(inconsistent))\n"
          ],
          "name": "stderr"
        },
        {
          "output_type": "execute_result",
          "data": {
            "text/plain": [
              "['DUBLIN Breakdown cleared on St Johns Rd West More here  \\xa0',\n",
              " 'DUBLIN Breakdown on St Johns Rd West More here  \\xa0',\n",
              " 'DUBLIN Incident cleared from the M50 southbound More here  \\xa0',\n",
              " 'DUBLIN No further reports of a collision on M1 northbound More here  \\xa0',\n",
              " 'DUBLIN Reports of a collision on M1 northbound More here  \\xa0']"
            ]
          },
          "metadata": {
            "tags": []
          },
          "execution_count": 22
        }
      ]
    },
    {
      "cell_type": "code",
      "metadata": {
        "id": "o4CYxw37VuDx",
        "colab_type": "code",
        "outputId": "21a3dc33-a3e7-4f97-a05c-1af771740b61",
        "colab": {
          "base_uri": "https://localhost:8080/",
          "height": 154
        }
      },
      "source": [
        "event_corpus = event_df_comp['text_clean'].tolist()\n",
        "tf_event_vectorizer = CountVectorizer(max_df=0.9, min_df=0.00, stop_words=stop_list, tokenizer=tokenize_only) # Use tf (raw term count) features for LDA.\n",
        "tf_event = tf_event_vectorizer.fit_transform(event_corpus)\n",
        "event_corpus[:5]\n"
      ],
      "execution_count": 0,
      "outputs": [
        {
          "output_type": "stream",
          "text": [
            "/usr/local/lib/python3.6/dist-packages/sklearn/feature_extraction/text.py:300: UserWarning: Your stop_words may be inconsistent with your preprocessing. Tokenizing the stop words generated tokens [\"'d\", \"'ll\", \"'re\", \"'s\", \"'ve\", 'could', 'might', 'must', \"n't\", 'need', 'sha', 'wo', 'would'] not in stop_words.\n",
            "  'stop_words.' % sorted(inconsistent))\n"
          ],
          "name": "stderr"
        },
        {
          "output_type": "execute_result",
          "data": {
            "text/plain": [
              "['FOUR IN A ROW\\nThe Dublin Senior GAA Football Team won the All Ireland Senior title for the fourth time in a row yesterday and there will be a big celebration today from 1830 on Smithfield Plaza with and for  \\xa0…',\n",
              " 'Eid Fest in Herbert Park in Ballsbridge is a festival organised by the muslim community for ALL communities in Dublin Eid means celebration in Arabic \\nThere will be a BBQ and other food stalls a market and lots of Inflatable Games for kids and  \\xa0…',\n",
              " 'On Sunday afternoon 15002000 the world music festival Hotter Than July will happen at Smithfield Plaza \\n\\nThe five hours will be filled with music from all over the gaff \\n with Samba Drumming  \\xa0…',\n",
              " 'Lots of events happening today And the weather is also holding up so go to Merrion Square for the Dublin Maker Fair or to Wolftone Square for the Playground of Sound and then there is the Liberties  \\xa0…',\n",
              " 'Dublin Maker is a daylong festival for hackers crafters coders DIYers curious inventors AND every curious person in Dublin It is a community run free event in Merrion Square on Saturday and it is suitable  \\xa0…']"
            ]
          },
          "metadata": {
            "tags": []
          },
          "execution_count": 106
        }
      ]
    },
    {
      "cell_type": "code",
      "metadata": {
        "id": "4hrmV8sfbtXv",
        "colab_type": "code",
        "colab": {}
      },
      "source": [
        "# Create and fit the LDA model\n",
        "model = LDA(n_components=4, n_jobs=-1)\n",
        "id_topic = model.fit(tf)\n",
        "event_model = LDA(n_components=4, n_jobs=-1)\n",
        "event_topic = event_model.fit(tf_event)"
      ],
      "execution_count": 0,
      "outputs": []
    },
    {
      "cell_type": "code",
      "metadata": {
        "id": "BegPn6noEX8a",
        "colab_type": "code",
        "outputId": "b74b2180-a489-47d6-fdf2-fbebd0e96f5c",
        "colab": {
          "base_uri": "https://localhost:8080/",
          "height": 118
        }
      },
      "source": [
        "print(\"Topics found via LDA:\")\n",
        "topic_keywords = show_topics(vectorizer=tf_vectorizer, lda_model=model, n_words=3)  \n",
        "df_topic_keywords  = pd.DataFrame(topic_keywords)\n",
        "df_topic_keywords .columns = ['Word '+str(i) for i in range(df_topic_keywords .shape[1])]\n",
        "df_topic_keywords .index = ['Topic '+str(i) for i in range(df_topic_keywords .shape[0])]\n",
        "df_topic_keywords  = df_topic_keywords.reset_index()\n",
        "df_topic_keywords ['topic_index'] = df_topic_keywords['index'].str.split(' ', n = 1, expand = True)[[1]].astype('int')\n",
        "print(df_topic_keywords)"
      ],
      "execution_count": 0,
      "outputs": [
        {
          "output_type": "stream",
          "text": [
            "Topics found via LDA:\n",
            "     index  Word 0   Word 1      Word 2  topic_index\n",
            "0  Topic 0      rd   dublin     traffic            0\n",
            "1  Topic 1  dublin       st        lane            1\n",
            "2  Topic 2  dublin      m50  northbound            2\n",
            "3  Topic 3      rd  kildare  southbound            3\n"
          ],
          "name": "stdout"
        }
      ]
    },
    {
      "cell_type": "code",
      "metadata": {
        "id": "F5d5FuRCVgca",
        "colab_type": "code",
        "outputId": "562aa554-c1e1-42db-b8d6-68919ea27860",
        "colab": {
          "base_uri": "https://localhost:8080/",
          "height": 118
        }
      },
      "source": [
        "print(\"Event topics found via LDA:\")\n",
        "event_topic_keywords = show_topics(vectorizer=tf_event_vectorizer, lda_model=event_model, n_words=3)  \n",
        "df_event_topic_keywords  = pd.DataFrame(event_topic_keywords)\n",
        "df_event_topic_keywords .columns = ['Word '+str(i) for i in range(df_event_topic_keywords .shape[1])]\n",
        "df_event_topic_keywords .index = ['Topic '+str(i) for i in range(df_event_topic_keywords .shape[0])]\n",
        "df_event_topic_keywords  = df_event_topic_keywords.reset_index()\n",
        "df_event_topic_keywords ['topic_index'] = df_event_topic_keywords['index'].str.split(' ', n = 1, expand = True)[[1]].astype('int')\n",
        "print(df_event_topic_keywords)"
      ],
      "execution_count": 0,
      "outputs": [
        {
          "output_type": "stream",
          "text": [
            "Event topics found via LDA:\n",
            "     index  Word 0   Word 1  Word 2  topic_index\n",
            "0  Topic 0  square  merrion  dublin            0\n",
            "1  Topic 1  dublin     park     new            1\n",
            "2  Topic 2  dublin   street  garden            2\n",
            "3  Topic 3    park   street  dublin            3\n"
          ],
          "name": "stdout"
        }
      ]
    },
    {
      "cell_type": "markdown",
      "metadata": {
        "id": "FjAzIMOsd_V1",
        "colab_type": "text"
      },
      "source": [
        "Sentiment Analysis"
      ]
    },
    {
      "cell_type": "code",
      "metadata": {
        "id": "IoXURoa1e-al",
        "colab_type": "code",
        "outputId": "f24156b9-12d0-4b01-df1d-87a8514bb628",
        "colab": {
          "base_uri": "https://localhost:8080/",
          "height": 79
        }
      },
      "source": [
        "import keras\n",
        "import h5py\n",
        "from keras.models import model_from_json\n",
        "from keras.models import load_model\n",
        "import json\n",
        "from nltk.tokenize import RegexpTokenizer"
      ],
      "execution_count": 0,
      "outputs": [
        {
          "output_type": "stream",
          "text": [
            "Using TensorFlow backend.\n"
          ],
          "name": "stderr"
        },
        {
          "output_type": "display_data",
          "data": {
            "text/html": [
              "<p style=\"color: red;\">\n",
              "The default version of TensorFlow in Colab will soon switch to TensorFlow 2.x.<br>\n",
              "We recommend you <a href=\"https://www.tensorflow.org/guide/migrate\" target=\"_blank\">upgrade</a> now \n",
              "or ensure your notebook will continue to use TensorFlow 1.x via the <code>%tensorflow_version 1.x</code> magic:\n",
              "<a href=\"https://colab.research.google.com/notebooks/tensorflow_version.ipynb\" target=\"_blank\">more info</a>.</p>\n"
            ],
            "text/plain": [
              "<IPython.core.display.HTML object>"
            ]
          },
          "metadata": {
            "tags": []
          }
        }
      ]
    },
    {
      "cell_type": "code",
      "metadata": {
        "id": "Lxf-gTX_xwSR",
        "colab_type": "code",
        "outputId": "9384fe0d-f3d0-4994-ecc3-01ed2acdbccd",
        "colab": {
          "base_uri": "https://localhost:8080/",
          "height": 944
        }
      },
      "source": [
        " # read in the weight of the trained model.\n",
        "\n",
        "prd_model = load_model(\"/content/models_dl_sentiment_model_best_weight_glove_bi_512.hdf5\")\n",
        "prd_model.summary()\n",
        "word_idx = json.load(open(\"/content/models_dl_sentiment_model_word_idx.txt\"))"
      ],
      "execution_count": 0,
      "outputs": [
        {
          "output_type": "stream",
          "text": [
            "WARNING:tensorflow:From /usr/local/lib/python3.6/dist-packages/keras/backend/tensorflow_backend.py:66: The name tf.get_default_graph is deprecated. Please use tf.compat.v1.get_default_graph instead.\n",
            "\n",
            "WARNING:tensorflow:From /usr/local/lib/python3.6/dist-packages/keras/backend/tensorflow_backend.py:541: The name tf.placeholder is deprecated. Please use tf.compat.v1.placeholder instead.\n",
            "\n",
            "WARNING:tensorflow:From /usr/local/lib/python3.6/dist-packages/keras/backend/tensorflow_backend.py:4432: The name tf.random_uniform is deprecated. Please use tf.random.uniform instead.\n",
            "\n",
            "WARNING:tensorflow:From /usr/local/lib/python3.6/dist-packages/keras/backend/tensorflow_backend.py:148: The name tf.placeholder_with_default is deprecated. Please use tf.compat.v1.placeholder_with_default instead.\n",
            "\n",
            "WARNING:tensorflow:From /usr/local/lib/python3.6/dist-packages/keras/backend/tensorflow_backend.py:3733: calling dropout (from tensorflow.python.ops.nn_ops) with keep_prob is deprecated and will be removed in a future version.\n",
            "Instructions for updating:\n",
            "Please use `rate` instead of `keep_prob`. Rate should be set to `rate = 1 - keep_prob`.\n",
            "WARNING:tensorflow:From /usr/local/lib/python3.6/dist-packages/keras/backend/tensorflow_backend.py:190: The name tf.get_default_session is deprecated. Please use tf.compat.v1.get_default_session instead.\n",
            "\n",
            "WARNING:tensorflow:From /usr/local/lib/python3.6/dist-packages/keras/backend/tensorflow_backend.py:197: The name tf.ConfigProto is deprecated. Please use tf.compat.v1.ConfigProto instead.\n",
            "\n",
            "WARNING:tensorflow:From /usr/local/lib/python3.6/dist-packages/keras/backend/tensorflow_backend.py:203: The name tf.Session is deprecated. Please use tf.compat.v1.Session instead.\n",
            "\n",
            "WARNING:tensorflow:From /usr/local/lib/python3.6/dist-packages/keras/backend/tensorflow_backend.py:207: The name tf.global_variables is deprecated. Please use tf.compat.v1.global_variables instead.\n",
            "\n",
            "WARNING:tensorflow:From /usr/local/lib/python3.6/dist-packages/keras/backend/tensorflow_backend.py:216: The name tf.is_variable_initialized is deprecated. Please use tf.compat.v1.is_variable_initialized instead.\n",
            "\n",
            "WARNING:tensorflow:From /usr/local/lib/python3.6/dist-packages/keras/backend/tensorflow_backend.py:223: The name tf.variables_initializer is deprecated. Please use tf.compat.v1.variables_initializer instead.\n",
            "\n",
            "WARNING:tensorflow:From /usr/local/lib/python3.6/dist-packages/keras/optimizers.py:793: The name tf.train.Optimizer is deprecated. Please use tf.compat.v1.train.Optimizer instead.\n",
            "\n",
            "WARNING:tensorflow:From /usr/local/lib/python3.6/dist-packages/keras/backend/tensorflow_backend.py:3576: The name tf.log is deprecated. Please use tf.math.log instead.\n",
            "\n",
            "WARNING:tensorflow:From /usr/local/lib/python3.6/dist-packages/tensorflow_core/python/ops/math_grad.py:1424: where (from tensorflow.python.ops.array_ops) is deprecated and will be removed in a future version.\n",
            "Instructions for updating:\n",
            "Use tf.where in 2.0, which has the same broadcast rule as np.where\n",
            "WARNING:tensorflow:From /usr/local/lib/python3.6/dist-packages/keras/backend/tensorflow_backend.py:1033: The name tf.assign_add is deprecated. Please use tf.compat.v1.assign_add instead.\n",
            "\n",
            "WARNING:tensorflow:From /usr/local/lib/python3.6/dist-packages/keras/backend/tensorflow_backend.py:1020: The name tf.assign is deprecated. Please use tf.compat.v1.assign instead.\n",
            "\n",
            "Model: \"sequential_1\"\n",
            "_________________________________________________________________\n",
            "Layer (type)                 Output Shape              Param #   \n",
            "=================================================================\n",
            "embedding_16 (Embedding)     (None, 56, 300)           120000300 \n",
            "_________________________________________________________________\n",
            "bidirectional_2 (Bidirection (None, 256)               439296    \n",
            "_________________________________________________________________\n",
            "dense_20 (Dense)             (None, 512)               131584    \n",
            "_________________________________________________________________\n",
            "dropout_6 (Dropout)          (None, 512)               0         \n",
            "_________________________________________________________________\n",
            "dense_21 (Dense)             (None, 10)                5130      \n",
            "=================================================================\n",
            "Total params: 120,576,310\n",
            "Trainable params: 576,010\n",
            "Non-trainable params: 120,000,300\n",
            "_________________________________________________________________\n"
          ],
          "name": "stdout"
        },
        {
          "output_type": "stream",
          "text": [
            "/usr/local/lib/python3.6/dist-packages/keras/engine/saving.py:350: UserWarning: Error in loading the saved optimizer state. As a result, your model is starting with a freshly initialized optimizer.\n",
            "  warnings.warn('Error in loading the saved optimizer '\n"
          ],
          "name": "stderr"
        }
      ]
    },
    {
      "cell_type": "code",
      "metadata": {
        "id": "s9QUFxY4yYoP",
        "colab_type": "code",
        "colab": {}
      },
      "source": [
        "def get_sentiment_DL(prd_model, text_data, word_idx):\n",
        "\n",
        "    #data = \"Pass the salt\"\n",
        "\n",
        "    live_list = []\n",
        "    batchSize = len(text_data)\n",
        "    live_list_np = np.zeros((56,batchSize))\n",
        "    for index, row in text_data.iterrows():\n",
        "        #print (index)\n",
        "        text_data_sample = text_data['tweet'][index]\n",
        "        # split the sentence into its words and remove any punctuations.\n",
        "        tokenizer = RegexpTokenizer(r'\\w+')\n",
        "        text_data_list = tokenizer.tokenize(text_data_sample)\n",
        "\n",
        "        #text_data_list = text_data_sample.split()\n",
        "\n",
        "\n",
        "        labels = np.array(['1','2','3','4','5','6','7','8','9','10'], dtype = \"int\")\n",
        "        #word_idx['I']\n",
        "        # get index for the live stage\n",
        "        data_index = np.array([word_idx[word.lower()] if word.lower() in word_idx else 0 for word in text_data_list])\n",
        "        data_index_np = np.array(data_index)\n",
        "\n",
        "        # padded with zeros of length 56 i.e maximum length\n",
        "        padded_array = np.zeros(56)\n",
        "        padded_array[:data_index_np.shape[0]] = data_index_np[:56]\n",
        "        data_index_np_pad = padded_array.astype(int)\n",
        "\n",
        "\n",
        "        live_list.append(data_index_np_pad)\n",
        "\n",
        "    live_list_np = np.asarray(live_list)\n",
        "    score = prd_model.predict(live_list_np, batch_size=batchSize, verbose=0)\n",
        "    single_score = np.round(np.dot(score, labels)/10,decimals=2)\n",
        "\n",
        "    score_all  = []\n",
        "    for each_score in score:\n",
        "\n",
        "        top_3_index = np.argsort(each_score)[-3:]\n",
        "        top_3_scores = each_score[top_3_index]\n",
        "        top_3_weights = top_3_scores/np.sum(top_3_scores)\n",
        "        single_score_dot = np.round(np.dot(top_3_index, top_3_weights)/10, decimals = 2)\n",
        "        score_all.append(single_score_dot)\n",
        "\n",
        "    text_data['Sentiment_Score'] = pd.DataFrame(score_all)\n",
        "\n",
        "    return text_data"
      ],
      "execution_count": 0,
      "outputs": []
    },
    {
      "cell_type": "code",
      "metadata": {
        "id": "TVCx3elqCEoj",
        "colab_type": "code",
        "colab": {}
      },
      "source": [
        "# Deep Learning sentiment scoring\n",
        "tweet_out = get_sentiment_DL(prd_model, tweet_df_comp, word_idx)\n",
        "event_df_comp['tweet'] = [x.replace(\"\\n\",\" \") for x in event_df_comp['tweet']]\n",
        "event_df_comp['tweet'] = [x.replace(\"\\t\",\" \") for x in event_df_comp['tweet']]\n",
        "event_df_comp['tweet'] = [x.replace(\"’\",\"\") for x in event_df_comp['tweet']]  \n",
        "event_df_comp.drop(55, inplace=True)\n",
        "event_df_comp.drop(317, inplace=True)\n",
        "event_df_comp.drop(45, inplace=True)\n",
        "event_df_comp.drop(47, inplace=True)\n",
        "event_df_comp.drop(62, inplace=True)\n",
        "event_df_comp.drop(7, inplace=True)\n",
        "event_out = get_sentiment_DL(prd_model, event_df_comp, word_idx)"
      ],
      "execution_count": 0,
      "outputs": []
    },
    {
      "cell_type": "code",
      "metadata": {
        "id": "UvGZO2qECfBB",
        "colab_type": "code",
        "outputId": "79a2ebc1-0850-4749-c998-31a4b41474c6",
        "colab": {
          "base_uri": "https://localhost:8080/",
          "height": 140
        }
      },
      "source": [
        "tweet_out.sort_values(by='Sentiment_Score')[['tweet','Sentiment_Score']].head().T"
      ],
      "execution_count": 0,
      "outputs": [
        {
          "output_type": "execute_result",
          "data": {
            "text/html": [
              "<div>\n",
              "<style scoped>\n",
              "    .dataframe tbody tr th:only-of-type {\n",
              "        vertical-align: middle;\n",
              "    }\n",
              "\n",
              "    .dataframe tbody tr th {\n",
              "        vertical-align: top;\n",
              "    }\n",
              "\n",
              "    .dataframe thead th {\n",
              "        text-align: right;\n",
              "    }\n",
              "</style>\n",
              "<table border=\"1\" class=\"dataframe\">\n",
              "  <thead>\n",
              "    <tr style=\"text-align: right;\">\n",
              "      <th></th>\n",
              "      <th>5234</th>\n",
              "      <th>5235</th>\n",
              "      <th>215</th>\n",
              "      <th>5046</th>\n",
              "      <th>356</th>\n",
              "    </tr>\n",
              "  </thead>\n",
              "  <tbody>\n",
              "    <tr>\n",
              "      <th>tweet</th>\n",
              "      <td>#WESTMEATH #LONGFORD: Debris cleared from N6 D...</td>\n",
              "      <td>#WESTMEATH Debris on #N6 Dublin/Galway Rd betw...</td>\n",
              "      <td>#DUBLIN One lane of southbound bore of the Por...</td>\n",
              "      <td>#DUBLIN Debris outbound on N7 Naas Rd at Newla...</td>\n",
              "      <td>Hi Mark, full details of road closures and res...</td>\n",
              "    </tr>\n",
              "    <tr>\n",
              "      <th>Sentiment_Score</th>\n",
              "      <td>0.07</td>\n",
              "      <td>0.1</td>\n",
              "      <td>0.1</td>\n",
              "      <td>0.1</td>\n",
              "      <td>0.11</td>\n",
              "    </tr>\n",
              "  </tbody>\n",
              "</table>\n",
              "</div>"
            ],
            "text/plain": [
              "                                                              5234  ...                                               356 \n",
              "tweet            #WESTMEATH #LONGFORD: Debris cleared from N6 D...  ...  Hi Mark, full details of road closures and res...\n",
              "Sentiment_Score                                               0.07  ...                                               0.11\n",
              "\n",
              "[2 rows x 5 columns]"
            ]
          },
          "metadata": {
            "tags": []
          },
          "execution_count": 221
        }
      ]
    },
    {
      "cell_type": "code",
      "metadata": {
        "id": "LRc0cVVoDF71",
        "colab_type": "code",
        "outputId": "dc1217c6-b052-46ad-edfd-9aa117d46015",
        "colab": {
          "base_uri": "https://localhost:8080/",
          "height": 34
        }
      },
      "source": [
        "tweet_out['tweet'].loc[8341]"
      ],
      "execution_count": 0,
      "outputs": [
        {
          "output_type": "execute_result",
          "data": {
            "text/plain": [
              "'Hi Denise, the M7 Dublin/Limerick Rd is now moving well in both directions.'"
            ]
          },
          "metadata": {
            "tags": []
          },
          "execution_count": 225
        }
      ]
    },
    {
      "cell_type": "code",
      "metadata": {
        "id": "-s6ecx5K_M3k",
        "colab_type": "code",
        "outputId": "06dd9626-cfd4-4260-bdb6-b472d90ed045",
        "colab": {
          "base_uri": "https://localhost:8080/",
          "height": 34
        }
      },
      "source": [
        "tweet_out['tweet'].loc[5235]"
      ],
      "execution_count": 0,
      "outputs": [
        {
          "output_type": "execute_result",
          "data": {
            "text/plain": [
              "'#WESTMEATH Debris on #N6 Dublin/Galway Rd between J9 Garrycastle & J10 Ballymahan westbound. Take care  http://www.TheAA.ie/Newsroom\\xa0'"
            ]
          },
          "metadata": {
            "tags": []
          },
          "execution_count": 238
        }
      ]
    },
    {
      "cell_type": "code",
      "metadata": {
        "id": "5ZQLDsYdCiTK",
        "colab_type": "code",
        "outputId": "c16be3bc-bc63-4b66-ee95-ed4cf32e7bb4",
        "colab": {
          "base_uri": "https://localhost:8080/",
          "height": 140
        }
      },
      "source": [
        "tweet_out.sort_values(by='Sentiment_Score', ascending=False)[['tweet','Sentiment_Score']].head().T"
      ],
      "execution_count": 0,
      "outputs": [
        {
          "output_type": "execute_result",
          "data": {
            "text/html": [
              "<div>\n",
              "<style scoped>\n",
              "    .dataframe tbody tr th:only-of-type {\n",
              "        vertical-align: middle;\n",
              "    }\n",
              "\n",
              "    .dataframe tbody tr th {\n",
              "        vertical-align: top;\n",
              "    }\n",
              "\n",
              "    .dataframe thead th {\n",
              "        text-align: right;\n",
              "    }\n",
              "</style>\n",
              "<table border=\"1\" class=\"dataframe\">\n",
              "  <thead>\n",
              "    <tr style=\"text-align: right;\">\n",
              "      <th></th>\n",
              "      <th>8341</th>\n",
              "      <th>290</th>\n",
              "      <th>2570</th>\n",
              "      <th>286</th>\n",
              "      <th>1648</th>\n",
              "    </tr>\n",
              "  </thead>\n",
              "  <tbody>\n",
              "    <tr>\n",
              "      <th>tweet</th>\n",
              "      <td>Hi Denise, the M7 Dublin/Limerick Rd is now mo...</td>\n",
              "      <td>Hi Ciara. We are expecting a lot of extra traf...</td>\n",
              "      <td>Hi Catherine. Here is a link to parking inform...</td>\n",
              "      <td>Pope Francis is in Dublin today 👇\\n\\nKeep an e...</td>\n",
              "      <td>#EdSheeran fever is back in Dublin tonight! \\n...</td>\n",
              "    </tr>\n",
              "    <tr>\n",
              "      <th>Sentiment_Score</th>\n",
              "      <td>0.73</td>\n",
              "      <td>0.7</td>\n",
              "      <td>0.7</td>\n",
              "      <td>0.7</td>\n",
              "      <td>0.69</td>\n",
              "    </tr>\n",
              "  </tbody>\n",
              "</table>\n",
              "</div>"
            ],
            "text/plain": [
              "                                                              8341  ...                                               1648\n",
              "tweet            Hi Denise, the M7 Dublin/Limerick Rd is now mo...  ...  #EdSheeran fever is back in Dublin tonight! \\n...\n",
              "Sentiment_Score                                               0.73  ...                                               0.69\n",
              "\n",
              "[2 rows x 5 columns]"
            ]
          },
          "metadata": {
            "tags": []
          },
          "execution_count": 223
        }
      ]
    },
    {
      "cell_type": "code",
      "metadata": {
        "id": "SL80luUAWuTV",
        "colab_type": "code",
        "outputId": "dd50ee7a-b0f4-4862-90c2-3aa65886d65e",
        "colab": {
          "base_uri": "https://localhost:8080/",
          "height": 140
        }
      },
      "source": [
        "event_out.sort_values(by='Sentiment_Score')[['tweet','Sentiment_Score']].head().T"
      ],
      "execution_count": 0,
      "outputs": [
        {
          "output_type": "execute_result",
          "data": {
            "text/html": [
              "<div>\n",
              "<style scoped>\n",
              "    .dataframe tbody tr th:only-of-type {\n",
              "        vertical-align: middle;\n",
              "    }\n",
              "\n",
              "    .dataframe tbody tr th {\n",
              "        vertical-align: top;\n",
              "    }\n",
              "\n",
              "    .dataframe thead th {\n",
              "        text-align: right;\n",
              "    }\n",
              "</style>\n",
              "<table border=\"1\" class=\"dataframe\">\n",
              "  <thead>\n",
              "    <tr style=\"text-align: right;\">\n",
              "      <th></th>\n",
              "      <th>51</th>\n",
              "      <th>36</th>\n",
              "      <th>38</th>\n",
              "      <th>40</th>\n",
              "      <th>56</th>\n",
              "    </tr>\n",
              "  </thead>\n",
              "  <tbody>\n",
              "    <tr>\n",
              "      <th>tweet</th>\n",
              "      <td>Family Day Festival, proudly supported by Dubl...</td>\n",
              "      <td>Grand Canal path near Google looks graffiti fr...</td>\n",
              "      <td>.@tech_create demonstrating a trebuchet @Dubli...</td>\n",
              "      <td>Drop by Merrion Square Park today! So much hap...</td>\n",
              "      <td>Dublin Maker is a day-long festival for hacker...</td>\n",
              "    </tr>\n",
              "    <tr>\n",
              "      <th>Sentiment_Score</th>\n",
              "      <td>0.05</td>\n",
              "      <td>0.3</td>\n",
              "      <td>0.39</td>\n",
              "      <td>0.41</td>\n",
              "      <td>0.41</td>\n",
              "    </tr>\n",
              "  </tbody>\n",
              "</table>\n",
              "</div>"
            ],
            "text/plain": [
              "                                                                51  ...                                                 56\n",
              "tweet            Family Day Festival, proudly supported by Dubl...  ...  Dublin Maker is a day-long festival for hacker...\n",
              "Sentiment_Score                                               0.05  ...                                               0.41\n",
              "\n",
              "[2 rows x 5 columns]"
            ]
          },
          "metadata": {
            "tags": []
          },
          "execution_count": 224
        }
      ]
    },
    {
      "cell_type": "code",
      "metadata": {
        "id": "tUcxVq73dZ60",
        "colab_type": "code",
        "outputId": "f50f4ae0-2906-410c-ce8c-db2a93585d40",
        "colab": {
          "base_uri": "https://localhost:8080/",
          "height": 123
        }
      },
      "source": [
        "event_out.sort_values(by='Sentiment_Score', ascending=False)[['tweet','Sentiment_Score']].head().T"
      ],
      "execution_count": 0,
      "outputs": [
        {
          "output_type": "execute_result",
          "data": {
            "text/html": [
              "<div>\n",
              "<style scoped>\n",
              "    .dataframe tbody tr th:only-of-type {\n",
              "        vertical-align: middle;\n",
              "    }\n",
              "\n",
              "    .dataframe tbody tr th {\n",
              "        vertical-align: top;\n",
              "    }\n",
              "\n",
              "    .dataframe thead th {\n",
              "        text-align: right;\n",
              "    }\n",
              "</style>\n",
              "<table border=\"1\" class=\"dataframe\">\n",
              "  <thead>\n",
              "    <tr style=\"text-align: right;\">\n",
              "      <th></th>\n",
              "      <th>11</th>\n",
              "      <th>69</th>\n",
              "      <th>9</th>\n",
              "      <th>73</th>\n",
              "      <th>52</th>\n",
              "    </tr>\n",
              "  </thead>\n",
              "  <tbody>\n",
              "    <tr>\n",
              "      <th>tweet</th>\n",
              "      <td>Eid Fest in Herbert Park in Ballsbridge is a f...</td>\n",
              "      <td>Merrion Square is full of laughter and good vi...</td>\n",
              "      <td>If you drive down Dublin Boulevard you will se...</td>\n",
              "      <td>The Night Run is back for 2018! taking place o...</td>\n",
              "      <td>You're invited to the Garden in the Sky coffee...</td>\n",
              "    </tr>\n",
              "    <tr>\n",
              "      <th>Sentiment_Score</th>\n",
              "      <td>0.82</td>\n",
              "      <td>0.81</td>\n",
              "      <td>0.71</td>\n",
              "      <td>0.59</td>\n",
              "      <td>0.59</td>\n",
              "    </tr>\n",
              "  </tbody>\n",
              "</table>\n",
              "</div>"
            ],
            "text/plain": [
              "                                                                11  ...                                                 52\n",
              "tweet            Eid Fest in Herbert Park in Ballsbridge is a f...  ...  You're invited to the Garden in the Sky coffee...\n",
              "Sentiment_Score                                               0.82  ...                                               0.59\n",
              "\n",
              "[2 rows x 5 columns]"
            ]
          },
          "metadata": {
            "tags": []
          },
          "execution_count": 215
        }
      ]
    },
    {
      "cell_type": "code",
      "metadata": {
        "id": "Oxz_d_Rndbe-",
        "colab_type": "code",
        "outputId": "b7d775e4-c717-4367-8c70-4efbb1818a7a",
        "colab": {
          "base_uri": "https://localhost:8080/",
          "height": 34
        }
      },
      "source": [
        "event_out['tweet'].loc[36]"
      ],
      "execution_count": 0,
      "outputs": [
        {
          "output_type": "execute_result",
          "data": {
            "text/plain": [
              "'Grand Canal path near Google looks graffiti free clean - thanks @DubCityCouncil #DublinWalks pic.twitter.com/0TvlAyLlnp'"
            ]
          },
          "metadata": {
            "tags": []
          },
          "execution_count": 231
        }
      ]
    },
    {
      "cell_type": "code",
      "metadata": {
        "id": "drJ0-CHJ_Y8c",
        "colab_type": "code",
        "outputId": "b7ef6469-f3d0-4752-8971-16d8551d18d6",
        "colab": {
          "base_uri": "https://localhost:8080/",
          "height": 54
        }
      },
      "source": [
        "event_out['tweet'].loc[69]"
      ],
      "execution_count": 0,
      "outputs": [
        {
          "output_type": "execute_result",
          "data": {
            "text/plain": [
              "'Merrion Square is full of laughter and good vibes at the Laya Healthcare City Spectacular.  https://www.facebook.com/DublinEventGuide/videos/2152791578082349/\\xa0…'"
            ]
          },
          "metadata": {
            "tags": []
          },
          "execution_count": 239
        }
      ]
    },
    {
      "cell_type": "code",
      "metadata": {
        "id": "x42PVulHvEPu",
        "colab_type": "code",
        "outputId": "5f638800-3d77-4f49-f0cd-eca844435604",
        "colab": {
          "base_uri": "https://localhost:8080/",
          "height": 282
        }
      },
      "source": [
        "event_out['Sentiment_Score'].plot.hist()"
      ],
      "execution_count": 0,
      "outputs": [
        {
          "output_type": "execute_result",
          "data": {
            "text/plain": [
              "<matplotlib.axes._subplots.AxesSubplot at 0x7fc6da36dc18>"
            ]
          },
          "metadata": {
            "tags": []
          },
          "execution_count": 232
        },
        {
          "output_type": "display_data",
          "data": {
            "image/png": "[encoded data removed]",
            "text/plain": [
              "<Figure size 432x288 with 1 Axes>"
            ]
          },
          "metadata": {
            "tags": []
          }
        }
      ]
    },
    {
      "cell_type": "code",
      "metadata": {
        "id": "2ezBPf_T1wnN",
        "colab_type": "code",
        "outputId": "26c8bf81-dd94-40ff-dc93-2eb8e589c76a",
        "colab": {
          "base_uri": "https://localhost:8080/",
          "height": 282
        }
      },
      "source": [
        "tweet_out['Sentiment_Score'].plot.hist()"
      ],
      "execution_count": 0,
      "outputs": [
        {
          "output_type": "execute_result",
          "data": {
            "text/plain": [
              "<matplotlib.axes._subplots.AxesSubplot at 0x7fc6d803e400>"
            ]
          },
          "metadata": {
            "tags": []
          },
          "execution_count": 233
        },
        {
          "output_type": "display_data",
          "data": {
            "image/png": "[encoded data removed]",
            "text/plain": [
              "<Figure size 432x288 with 1 Axes>"
            ]
          },
          "metadata": {
            "tags": []
          }
        }
      ]
    }
  ]
}